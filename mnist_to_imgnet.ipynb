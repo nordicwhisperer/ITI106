{
 "cells": [
  {
   "cell_type": "markdown",
   "id": "aabdaece",
   "metadata": {},
   "source": [
    "\n",
    "### References:\n",
    "\n",
    "https://gist.github.com/stas00/e7b4d95fb146a9d91afb6f80507ce476"
   ]
  },
  {
   "cell_type": "code",
   "execution_count": 6,
   "id": "5d7e8fd8",
   "metadata": {},
   "outputs": [],
   "source": [
    "import random, os, gzip\n",
    "from pathlib import Path\n",
    "from PIL import Image\n",
    "import numpy as np\n",
    "\n",
    "def load_mnist(path, kind='train'):\n",
    "\n",
    "    \"\"\"Load MNIST data from `path`\"\"\"\n",
    "    labels_path = os.path.join(path, '%s-labels-idx1-ubyte.gz' % kind)\n",
    "    images_path = os.path.join(path, '%s-images-idx3-ubyte.gz' % kind)\n",
    "\n",
    "    with gzip.open(labels_path, 'rb') as lbpath:\n",
    "        labels = np.frombuffer(lbpath.read(), dtype=np.uint8, offset=8)\n",
    "\n",
    "    with gzip.open(images_path, 'rb') as imgpath:\n",
    "        images = np.frombuffer(imgpath.read(), dtype=np.uint8, offset=16).reshape(len(labels), 784)\n",
    "\n",
    "    return images, labels\n",
    "  \n",
    "def save_mnist(path, images, labels):\n",
    "    p = Path(path)\n",
    "    p.mkdir(parents=True, exist_ok=True)\n",
    "    # prep 10 dirs\n",
    "    for l in range(10): (p/str(l)).mkdir(parents=True, exist_ok=True)\n",
    "    for i, (im,l) in enumerate(zip(images, labels)):\n",
    "        #print(i, im, l)\n",
    "        dest = p/str(l)/f\"{i}.jpg\"\n",
    "        im = im.reshape(28, 28)\n",
    "        im = PIL.Image.fromarray(im, mode='L')\n",
    "        with dest.open(mode='wb') as f: im.save(f)\n",
    "\n",
    "def split_pct(images, labels, pct=0.8):\n",
    "    items = len(images)\n",
    "    idx = list(range(items))\n",
    "    split = int(items*pct) \n",
    "    #print(idx, split)\n",
    "    random.shuffle(idx)\n",
    "    train_idx = idx[:split]\n",
    "    valid_idx = idx[split:]\n",
    "    return images[train_idx], labels[train_idx], images[valid_idx], labels[valid_idx]\n",
    "\n",
    "def mnist_to_imagenet_format():\n",
    "    # convert to imagenet image format\n",
    "    images, labels = load_mnist('data/raw', 'train')\n",
    "    # split 80% train / 20% valid\n",
    "    images_trn, labels_trn, images_val, labels_val = split_pct(images, labels, 0.8)\n",
    "    save_mnist('data/train', images_trn, labels_trn)\n",
    "    save_mnist('data/valid', images_val, labels_val)\n",
    "\n",
    "    # test\n",
    "    images, labels = load_mnist('data/raw', 't10k')\n",
    "    save_mnist('data/test', images, labels)\n",
    "    \n",
    "mnist_to_imagenet_format()"
   ]
  },
  {
   "cell_type": "code",
   "execution_count": null,
   "id": "d96925fb",
   "metadata": {},
   "outputs": [],
   "source": []
  }
 ],
 "metadata": {
  "kernelspec": {
   "display_name": "Python 3 (ipykernel)",
   "language": "python",
   "name": "python3"
  },
  "language_info": {
   "codemirror_mode": {
    "name": "ipython",
    "version": 3
   },
   "file_extension": ".py",
   "mimetype": "text/x-python",
   "name": "python",
   "nbconvert_exporter": "python",
   "pygments_lexer": "ipython3",
   "version": "3.9.13"
  }
 },
 "nbformat": 4,
 "nbformat_minor": 5
}
